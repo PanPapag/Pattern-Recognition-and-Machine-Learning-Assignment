{
  "nbformat": 4,
  "nbformat_minor": 0,
  "metadata": {
    "colab": {
      "provenance": [],
      "toc_visible": true
    },
    "kernelspec": {
      "name": "python3",
      "display_name": "Python 3"
    },
    "language_info": {
      "name": "python"
    }
  },
  "cells": [
    {
      "cell_type": "markdown",
      "metadata": {
        "id": "uxQMIcH9aj3B"
      },
      "source": [
        "# Assignment 2 - Dimensionality Reduction Methods"
      ]
    },
    {
      "cell_type": "markdown",
      "metadata": {
        "id": "0T-2aVObbDsp"
      },
      "source": [
        "# Import Libraries \n"
      ]
    },
    {
      "cell_type": "code",
      "metadata": {
        "id": "5lKRYBpMa8LX"
      },
      "source": [
        "# Ignoring unnecessory warnings\n",
        "import warnings\n",
        "warnings.filterwarnings(\"ignore\")  \n",
        "# For image files manipulation\n",
        "import cv2\n",
        "from PIL import Image\n",
        "# For data vizualization \n",
        "import seaborn as sns\n",
        "import matplotlib as mpl\n",
        "import matplotlib.pyplot as plt\n",
        "from matplotlib.offsetbox import OffsetImage, AnnotationBbox\n",
        "%matplotlib inline\n",
        "# For large and multi-dimensional arrays\n",
        "import numpy as np\n",
        "# For data manipulation\n",
        "import pandas as pd\n",
        "# Machine Learning Library\n",
        "from sklearn.decomposition import PCA\n",
        "from sklearn.model_selection import cross_validate\n",
        "from sklearn.neighbors import KNeighborsClassifier\n",
        "# Communicating with Operating System functionalities\n",
        "import os "
      ],
      "execution_count": null,
      "outputs": []
    },
    {
      "cell_type": "markdown",
      "metadata": {
        "id": "J4fz6Om2bp7T"
      },
      "source": [
        "# Google Drive Mount"
      ]
    },
    {
      "cell_type": "code",
      "metadata": {
        "colab": {
          "base_uri": "https://localhost:8080/"
        },
        "id": "j4S_nXhZbqV1",
        "outputId": "fa4c67bd-f6de-41ef-edaa-244088085ca2"
      },
      "source": [
        "from google.colab import drive\n",
        "drive.mount('/content/drive')"
      ],
      "execution_count": null,
      "outputs": [
        {
          "output_type": "stream",
          "text": [
            "Drive already mounted at /content/drive; to attempt to forcibly remount, call drive.mount(\"/content/drive\", force_remount=True).\n"
          ],
          "name": "stdout"
        }
      ]
    },
    {
      "cell_type": "markdown",
      "metadata": {
        "id": "cW9vMe1ybJUr"
      },
      "source": [
        "# Question 1: Preprocessing, dimensionality reduction and visualization and image sorting "
      ]
    },
    {
      "cell_type": "markdown",
      "metadata": {
        "id": "Xuo9NdprbaDH"
      },
      "source": [
        "## I."
      ]
    },
    {
      "cell_type": "markdown",
      "metadata": {
        "id": "GHg6qdtyZi1H"
      },
      "source": [
        "Define a coding for labels, such that each season will correspond to a unique integer "
      ]
    },
    {
      "cell_type": "code",
      "metadata": {
        "id": "D7FyJdEhbXVj"
      },
      "source": [
        "season_to_label = dict()\n",
        "season_to_label['W'] = 0\n",
        "season_to_label['F'] = 1\n",
        "season_to_label['S'] = 2"
      ],
      "execution_count": null,
      "outputs": []
    },
    {
      "cell_type": "code",
      "metadata": {
        "id": "7JsjFa2bbkVf"
      },
      "source": [
        "def loadimages(path):\n",
        "  \"\"\"\n",
        "  @path: \n",
        "    the path in which the image folder is located\n",
        "\n",
        "  @returns: \n",
        "    tuple (data, labels) where data represents \n",
        "    each image as a vector column of dimension 30000 \n",
        "    and labels correspond to a single integer for \n",
        "    each data entry.\n",
        "  \"\"\"\n",
        "  data = np.zeros(shape=(7500, 30))\n",
        "  labels = np.zeros(shape=(30,))\n",
        "  for i, filename in enumerate(os.listdir(path)):\n",
        "      if filename.endswith(\".jpg\"): \n",
        "          filepath = os.path.join(path, filename)\n",
        "          oriimg = cv2.imread(filepath, cv2.IMREAD_COLOR)\n",
        "          image = cv2.resize(oriimg, (50, 50), interpolation=cv2.INTER_NEAREST)\n",
        "          data[:, i] = image.ravel()\n",
        "          labels[i] = season_to_label[filename[0]]\n",
        "      else:\n",
        "          continue\n",
        "  return data, labels"
      ],
      "execution_count": null,
      "outputs": []
    },
    {
      "cell_type": "code",
      "metadata": {
        "colab": {
          "base_uri": "https://localhost:8080/"
        },
        "id": "EnehtI09bm7w",
        "outputId": "46f13459-2d83-4479-e472-4bce84b47bb9"
      },
      "source": [
        "path = input(\"Insert path to images folder: \")\n",
        "data, labels = loadimages(path)\n",
        "print(\"Data shape: \", data.shape)\n",
        "print(\"Labels shape: \", labels.shape)"
      ],
      "execution_count": null,
      "outputs": [
        {
          "output_type": "stream",
          "text": [
            "Insert path to images folder: /content/drive/MyDrive/DI/6th Semester/ML/Assignments/Assignment-2/images\n",
            "Data shape:  (7500, 30)\n",
            "Labels shape:  (30,)\n"
          ],
          "name": "stdout"
        }
      ]
    },
    {
      "cell_type": "markdown",
      "metadata": {
        "id": "37vecqDPcQUl"
      },
      "source": [
        "## II."
      ]
    },
    {
      "cell_type": "code",
      "metadata": {
        "id": "6ZHj2JDI0aSM"
      },
      "source": [
        "def ComputePCA(X, num_components):\n",
        "  # Subtract the mean of each variable\n",
        "  X_meaned = X - X.mean(axis=0)     \n",
        "  # Calculate the Covariance Matrix\n",
        "  cov_mat = np.cov(X_meaned , rowvar = False)\n",
        "  # Compute the Eigenvalues and Eigenvectors of Covariance matrix\n",
        "  eigen_values, eigen_vectors = np.linalg.eigh(cov_mat)\n",
        "  # Sort Eigenvalues and Eigenvectors in descending order\n",
        "  sorted_index = np.argsort(eigen_values)[::-1]\n",
        "  sorted_eigenvalue = eigen_values[sorted_index]\n",
        "  sorted_eigenvectors = eigen_vectors[:,sorted_index]\n",
        "  # Select a subset from the rearranged Eigenvalue matrix\n",
        "  eigenvector_subset = sorted_eigenvectors[:,0:num_components]\n",
        "  # Transform the data \n",
        "  X_reduced = np.dot(eigenvector_subset.transpose() , X_meaned.transpose()).transpose()\n",
        "  return X_reduced"
      ],
      "execution_count": null,
      "outputs": []
    },
    {
      "cell_type": "code",
      "metadata": {
        "id": "ho2zFIRycSF9"
      },
      "source": [
        "def PCA_ImageSpaceVisualization(X):\n",
        "  \"\"\"\n",
        "  Images are displayed in the two-dimensional space \n",
        "  resulting from the projection of the data in the first \n",
        "  two principal components.\n",
        "\n",
        "  @args X: \n",
        "    image data numpy array of shape (dimensions, samples)\n",
        "  \"\"\"\n",
        "  pca_data = ComputePCA(X.T, num_components=2)\n",
        "  \n",
        "  x_coords = [item[0] for item in pca_data]\n",
        "  y_coords = [item[1] for item in pca_data]\n",
        "\n",
        "  fig = plt.figure(figsize = (24,12))\n",
        "  ax = fig.add_subplot(1,1,1) \n",
        "  ax.scatter(x_coords, y_coords)\n",
        "  plt.axis('off')\n",
        "  \n",
        "  for i, (x0, y0) in enumerate(zip(x_coords, y_coords)):\n",
        "      img = np.asarray(np.matrix(X[:, i]), dtype=\"uint8\").reshape((50, 50, 3))\n",
        "      RGB_img = cv2.cvtColor(img, cv2.COLOR_BGR2RGB)\n",
        "      ab = AnnotationBbox(OffsetImage(RGB_img), (x0, y0), frameon=True)\n",
        "      ax.add_artist(ab)"
      ],
      "execution_count": null,
      "outputs": []
    },
    {
      "cell_type": "code",
      "metadata": {
        "colab": {
          "base_uri": "https://localhost:8080/",
          "height": 682
        },
        "id": "D0rnqA7wcU2M",
        "outputId": "bcb23f0b-a403-4640-8a31-7a4f203050b0"
      },
      "source": [
        "PCA_ImageSpaceVisualization(data)"
      ],
      "execution_count": null,
      "outputs": [
        {
          "output_type": "display_data",
          "data": {
            "image/png": "[encoded data removed]",
            "text/plain": [
              "<Figure size 1728x864 with 1 Axes>"
            ]
          },
          "metadata": {
            "tags": [],
            "needs_background": "light"
          }
        }
      ]
    },
    {
      "cell_type": "markdown",
      "metadata": {
        "id": "sErqkwdAe4jr"
      },
      "source": [
        "## III.\n",
        "\n",
        "\n",
        "**What does it mean when images are close to this two-dimensional space shown in the above plot? What does it mean when images are far apart? Can we generalize these conclusions about the original image space which is very large?**"
      ]
    },
    {
      "cell_type": "markdown",
      "metadata": {
        "id": "IaLgqpgNf3LY"
      },
      "source": [
        "According to the above data, what we perceive, when the images/points of the graph are close, is that the RGB pixel values of each image, during the dimensionality reduction and transformation into eigenvalues, remain close given a metric. This function of the PCA model results in a categorization of the images, by comparing their similarity. In this way we see in the above plots that the images are partially categorized according to the season (and more specifically in terms of colors). Finally, specifically in the PCA execution steps, what happens is that the points corresponding to the nearby images have a positive correlation with each other (When one increases or decreases, there is a corresponding behavior in the other)."
      ]
    },
    {
      "cell_type": "markdown",
      "metadata": {
        "id": "ER8zn0AFf4yr"
      },
      "source": [
        "When the images are far apart it means that the points of the covariance matrix that correspond to the images have a negative covariance with each other. That is, when the value of one increases, the other decreases (or even the other way around) as a result they move away. Then, by selecting the larger eigenvectors and drawing in the diagram, we observe that the distance between them, which in this example is the difference of colors and therefore the seasons."
      ]
    },
    {
      "cell_type": "markdown",
      "metadata": {
        "id": "7TeQtB01ZBX7"
      },
      "source": [
        "In the high dimensional space the data can not be displayed on a two-dimensional graph to decide whether to categorize or not. Through PCA the data of each photo (50x50x3 corresponds to a vector of dimension 7500) gradually end up being mirrored in two dimensions. So yes the conclusions apply to the high dimensional data but it can not be understood by us. "
      ]
    },
    {
      "cell_type": "markdown",
      "metadata": {
        "id": "wD8QjVSpi9_f"
      },
      "source": [
        "## IV.\n",
        "\n",
        "**Do the images corresponding to one of the seasons tend to be grouped closer than the others? Why is this happening?**"
      ]
    },
    {
      "cell_type": "markdown",
      "metadata": {
        "id": "ESTLr-PQi_Jr"
      },
      "source": [
        "To answer this question, it is enough to think about when two images are grouped close together. Two images are grouped close together when the data produced by the PCA are close by. As mentioned above, the original high dimensional space of the images should be close as well.\n",
        "\n",
        "This happens when the images have similar colors, that means the numerical value of their pixels has the same order of magnitude. Thus, images that belong to a specific season tend to cover a common range of colors and as a result their pixels have relatively similar values. "
      ]
    },
    {
      "cell_type": "markdown",
      "metadata": {
        "id": "gJcGvC3cmKkZ"
      },
      "source": [
        "## V.\n",
        "\n",
        "**Compare the classification accuracy of the nearest neighbor classifier (1-NN) and the classification of three nearest neighbors (3-NN) to the problem of recognizing the season in which an image was recorded. In other words, compare the performance (in terms of classification accuracy) of the above classifiers in classifying the image data into winter, spring and autumn categories.**\n"
      ]
    },
    {
      "cell_type": "markdown",
      "metadata": {
        "id": "IT9i4Y1o13EX"
      },
      "source": [
        "### V.1\n",
        "\n",
        "**Use 5-fold cross validation and report the average classification accuracy for both classifiers for both the original high-dimensional data and the low-dimensional characteristics that have been exported using PCA.**"
      ]
    },
    {
      "cell_type": "code",
      "metadata": {
        "id": "20RtotiJ2NUo"
      },
      "source": [
        "# Define Classifiers\n",
        "knn_1 = KNeighborsClassifier(n_neighbors=1)\n",
        "knn_3 = KNeighborsClassifier(n_neighbors=3)"
      ],
      "execution_count": null,
      "outputs": []
    },
    {
      "cell_type": "code",
      "metadata": {
        "id": "dz57IL2S3rGO"
      },
      "source": [
        "# Execute 5-fold cross validation using knn (k=1) classifier\n",
        "knn_1_original_scores = cross_validate(knn_1, data.T, labels, cv=5, \n",
        "                                       scoring='accuracy',\n",
        "                                       return_train_score=True)"
      ],
      "execution_count": null,
      "outputs": []
    },
    {
      "cell_type": "code",
      "metadata": {
        "colab": {
          "base_uri": "https://localhost:8080/"
        },
        "id": "pfbFcUeL30qS",
        "outputId": "8ff730f8-3627-419b-a3ee-0c3ab485a669"
      },
      "source": [
        "knn_1_original_scores"
      ],
      "execution_count": null,
      "outputs": [
        {
          "output_type": "execute_result",
          "data": {
            "text/plain": [
              "{'fit_time': array([0.00430369, 0.00277209, 0.00281858, 0.00291109, 0.00278044]),\n",
              " 'score_time': array([0.00395107, 0.00383234, 0.00388908, 0.00377345, 0.00436807]),\n",
              " 'test_score': array([0.83333333, 1.        , 1.        , 0.66666667, 0.66666667]),\n",
              " 'train_score': array([1., 1., 1., 1., 1.])}"
            ]
          },
          "metadata": {
            "tags": []
          },
          "execution_count": 11
        }
      ]
    },
    {
      "cell_type": "code",
      "metadata": {
        "colab": {
          "base_uri": "https://localhost:8080/"
        },
        "id": "plTpM_Mb348x",
        "outputId": "8a9e7346-9fc1-4f01-cff0-4c7d25501faf"
      },
      "source": [
        "print('Average accuracy score using 1-NN Classifier trained on original data: {}'.format(knn_1_original_scores['test_score'].mean()))"
      ],
      "execution_count": null,
      "outputs": [
        {
          "output_type": "stream",
          "text": [
            "Average accuracy score using 1-NN Classifier trained on original data: 0.8333333333333334\n"
          ],
          "name": "stdout"
        }
      ]
    },
    {
      "cell_type": "code",
      "metadata": {
        "id": "WPXSCszh3_qk"
      },
      "source": [
        "# Execute 5-fold cross validation using knn (k=3) classifier\n",
        "knn_3_original_scores = cross_validate(knn_3, data.T, labels, cv=5, \n",
        "                                       scoring='accuracy',\n",
        "                                       return_train_score=True)"
      ],
      "execution_count": null,
      "outputs": []
    },
    {
      "cell_type": "code",
      "metadata": {
        "colab": {
          "base_uri": "https://localhost:8080/"
        },
        "id": "2iNK4DEw4EEJ",
        "outputId": "9510729f-23bd-45e4-f877-7b63b5904a25"
      },
      "source": [
        "knn_3_original_scores"
      ],
      "execution_count": null,
      "outputs": [
        {
          "output_type": "execute_result",
          "data": {
            "text/plain": [
              "{'fit_time': array([0.00507498, 0.00275946, 0.00275612, 0.00268269, 0.00267339]),\n",
              " 'score_time': array([0.00734425, 0.00412297, 0.00383544, 0.00366545, 0.00365615]),\n",
              " 'test_score': array([0.66666667, 0.83333333, 0.83333333, 0.66666667, 0.66666667]),\n",
              " 'train_score': array([0.91666667, 0.91666667, 0.83333333, 0.875     , 0.91666667])}"
            ]
          },
          "metadata": {
            "tags": []
          },
          "execution_count": 14
        }
      ]
    },
    {
      "cell_type": "code",
      "metadata": {
        "colab": {
          "base_uri": "https://localhost:8080/"
        },
        "id": "qK-geexf4Gfw",
        "outputId": "3f083c80-aee1-46bb-a897-f8826c5d5f4d"
      },
      "source": [
        "print('Average accuracy score using 3-NN Classifier trained on original data: {}'.format(knn_3_original_scores['test_score'].mean()))"
      ],
      "execution_count": null,
      "outputs": [
        {
          "output_type": "stream",
          "text": [
            "Average accuracy score using 3-NN Classifier trained on original data: 0.7333333333333333\n"
          ],
          "name": "stdout"
        }
      ]
    },
    {
      "cell_type": "markdown",
      "metadata": {
        "id": "OlrO0d4A4egO"
      },
      "source": [
        "We will repeat the same steps for both classifiers now using the low-dimensional data we computed via PCA. The dimensionality of the features variables that we will export using PCA will be 15. Below in question V.2, by examining the cumulative ratio of the explained variance with the number of main components, we explain how this number of components was selected."
      ]
    },
    {
      "cell_type": "code",
      "metadata": {
        "id": "h3s0yU1j5DCV"
      },
      "source": [
        "pca_data = PCA(n_components=15, whiten=True).fit_transform(data.T)"
      ],
      "execution_count": null,
      "outputs": []
    },
    {
      "cell_type": "code",
      "metadata": {
        "id": "xspkmM0m5Mr4"
      },
      "source": [
        "knn_1 = KNeighborsClassifier(n_neighbors=1)\n",
        "knn_3 = KNeighborsClassifier(n_neighbors=3)"
      ],
      "execution_count": null,
      "outputs": []
    },
    {
      "cell_type": "code",
      "metadata": {
        "id": "q3BPDyNK5R4U"
      },
      "source": [
        "knn_1_pca_scores = cross_validate(knn_1, pca_data, labels, cv=5, \n",
        "                                  scoring='accuracy',\n",
        "                                  return_train_score=True)"
      ],
      "execution_count": null,
      "outputs": []
    },
    {
      "cell_type": "code",
      "metadata": {
        "colab": {
          "base_uri": "https://localhost:8080/"
        },
        "id": "m4w_ZGfT5W3C",
        "outputId": "40131efe-5c2d-4654-9c01-ded4d819d90c"
      },
      "source": [
        "knn_1_pca_scores"
      ],
      "execution_count": null,
      "outputs": [
        {
          "output_type": "execute_result",
          "data": {
            "text/plain": [
              "{'fit_time': array([0.00093246, 0.0028882 , 0.00091529, 0.00076437, 0.00070596]),\n",
              " 'score_time': array([0.00329542, 0.00194097, 0.00462294, 0.00203323, 0.00909424]),\n",
              " 'test_score': array([0.5       , 0.5       , 0.66666667, 0.5       , 0.66666667]),\n",
              " 'train_score': array([1., 1., 1., 1., 1.])}"
            ]
          },
          "metadata": {
            "tags": []
          },
          "execution_count": 19
        }
      ]
    },
    {
      "cell_type": "code",
      "metadata": {
        "colab": {
          "base_uri": "https://localhost:8080/"
        },
        "id": "brAZfBo25Zjk",
        "outputId": "4d3202b3-4cb5-4e78-c421-0ad86d883a3c"
      },
      "source": [
        "print('Average accuracy score using 1-NN Classifier trained on data extracted by performing PCA: {}'.format(knn_1_pca_scores['test_score'].mean()))"
      ],
      "execution_count": null,
      "outputs": [
        {
          "output_type": "stream",
          "text": [
            "Average accuracy score using 1-NN Classifier trained on data extracted by performing PCA: 0.5666666666666667\n"
          ],
          "name": "stdout"
        }
      ]
    },
    {
      "cell_type": "code",
      "metadata": {
        "id": "rodBRa2Q5fYh"
      },
      "source": [
        "knn_3_pca_scores = cross_validate(knn_3, pca_data, labels, cv=5, \n",
        "                                  scoring='accuracy',\n",
        "                                  return_train_score=True)"
      ],
      "execution_count": null,
      "outputs": []
    },
    {
      "cell_type": "code",
      "metadata": {
        "colab": {
          "base_uri": "https://localhost:8080/"
        },
        "id": "Z2M4Qu6H5k5T",
        "outputId": "7788fd86-c2d8-4a20-80ce-23003857caa9"
      },
      "source": [
        "knn_3_pca_scores"
      ],
      "execution_count": null,
      "outputs": [
        {
          "output_type": "execute_result",
          "data": {
            "text/plain": [
              "{'fit_time': array([0.00048971, 0.00076485, 0.00080657, 0.00074983, 0.00045681]),\n",
              " 'score_time': array([0.00118971, 0.00372505, 0.00381398, 0.00129771, 0.00107598]),\n",
              " 'test_score': array([0.66666667, 0.5       , 0.5       , 0.33333333, 0.5       ]),\n",
              " 'train_score': array([0.70833333, 0.625     , 0.75      , 0.70833333, 0.66666667])}"
            ]
          },
          "metadata": {
            "tags": []
          },
          "execution_count": 22
        }
      ]
    },
    {
      "cell_type": "code",
      "metadata": {
        "colab": {
          "base_uri": "https://localhost:8080/"
        },
        "id": "9fjS_kSM5o7x",
        "outputId": "6f78a72f-b275-483a-b2f3-92650942929b"
      },
      "source": [
        "print('Average accuracy score using 3-NN Classifier trained on data extracted by performing PCA: {}'.format(knn_3_pca_scores['test_score'].mean()))"
      ],
      "execution_count": null,
      "outputs": [
        {
          "output_type": "stream",
          "text": [
            "Average accuracy score using 3-NN Classifier trained on data extracted by performing PCA: 0.5\n"
          ],
          "name": "stdout"
        }
      ]
    },
    {
      "cell_type": "markdown",
      "metadata": {
        "id": "Bv0-QGMSbDKS"
      },
      "source": [
        "**Final results**"
      ]
    },
    {
      "cell_type": "code",
      "metadata": {
        "colab": {
          "base_uri": "https://localhost:8080/"
        },
        "id": "hXsAmWGpbGJp",
        "outputId": "95c45bab-2804-4a86-8140-a5eef560f080"
      },
      "source": [
        "summary_results = pd.DataFrame(columns=['Classifier', 'Original data', 'PCA data', 'Average Accuracy'])\n",
        "summary_results.loc[len(summary_results)] = ['1-NN', knn_1_original_scores['test_score'].mean(), knn_1_pca_scores['test_score'].mean(), (knn_1_original_scores['test_score'].mean() + knn_1_pca_scores['test_score'].mean()) / 2]\n",
        "summary_results.loc[len(summary_results)] = ['3-NN', knn_3_original_scores['test_score'].mean(), knn_3_pca_scores['test_score'].mean(), (knn_3_original_scores['test_score'].mean() + knn_3_pca_scores['test_score'].mean()) / 2]\n",
        "print(summary_results)"
      ],
      "execution_count": null,
      "outputs": [
        {
          "output_type": "stream",
          "text": [
            "  Classifier  Original data  PCA data  Average Accuracy\n",
            "0       1-NN       0.833333  0.566667          0.700000\n",
            "1       3-NN       0.733333  0.500000          0.616667\n"
          ],
          "name": "stdout"
        }
      ]
    },
    {
      "cell_type": "markdown",
      "metadata": {
        "id": "LJFEdPTf5ybi"
      },
      "source": [
        "### V.2\n",
        "\n",
        "**How do we determine the dimension of the features that you will export through PCA?**"
      ]
    },
    {
      "cell_type": "markdown",
      "metadata": {
        "id": "MnjYy5Ho6KBG"
      },
      "source": [
        "To determine the dimension of the features that we will export through PCA we will examine the cumulative ratio of the explained variance in relation to the number of main components"
      ]
    },
    {
      "cell_type": "code",
      "metadata": {
        "id": "iTvr903j50cX"
      },
      "source": [
        "# Compute a PCA \n",
        "n_components = 30 ## how may componets to compute\n",
        "pca = PCA(n_components=n_components, whiten=True).fit(data.T)"
      ],
      "execution_count": null,
      "outputs": []
    },
    {
      "cell_type": "code",
      "metadata": {
        "colab": {
          "base_uri": "https://localhost:8080/",
          "height": 640
        },
        "id": "7XPYeHVw589g",
        "outputId": "463394b0-518a-4638-a23a-7509dd54d03f"
      },
      "source": [
        "print (pca.explained_variance_ratio_[:10])\n",
        "\n",
        "cumExplainedVar=np.cumsum(pca.explained_variance_ratio_)\n",
        "\n",
        "plt.figure(figsize=(10, 10))\n",
        "numOfComp=10\n",
        "plt.subplot(2, 2, 1)\n",
        "plt.bar(range(numOfComp),pca.explained_variance_ratio_[:numOfComp])\n",
        "plt.xlabel(' components ')\n",
        "plt.ylabel(' explained variance');\n",
        "\n",
        "\n",
        "plt.subplot(2, 2, 2)\n",
        "plt.plot(cumExplainedVar[:10])\n",
        "plt.xlabel('number of components retained (10 first)')\n",
        "plt.ylabel('cumulative explained variance');\n",
        "\n",
        "plt.subplot(2, 2, 3)\n",
        "plt.plot(cumExplainedVar[:20])\n",
        "plt.xlabel('number of components retained (20 first)')\n",
        "plt.ylabel('cumulative explained variance');\n",
        "\n",
        "plt.subplot(2, 2, 4)\n",
        "plt.plot(cumExplainedVar)\n",
        "plt.xlabel('number of components retained (30)')\n",
        "plt.ylabel('cumulative explained variance');\n",
        "\n",
        "plt.show()"
      ],
      "execution_count": null,
      "outputs": [
        {
          "output_type": "stream",
          "text": [
            "[0.44875359 0.09174614 0.05850803 0.04736781 0.0404097  0.03315796\n",
            " 0.02850695 0.02564724 0.02081042 0.0187151 ]\n"
          ],
          "name": "stdout"
        },
        {
          "output_type": "display_data",
          "data": {
            "image/png": "[encoded data removed]",
            "text/plain": [
              "<Figure size 720x720 with 4 Axes>"
            ]
          },
          "metadata": {
            "tags": [],
            "needs_background": "light"
          }
        }
      ]
    },
    {
      "cell_type": "markdown",
      "metadata": {
        "id": "WarGyALC6Tvu"
      },
      "source": [
        "We observe that the first two components explain about 60% of the variability of our data, while for 90% we need about 15 components."
      ]
    },
    {
      "cell_type": "markdown",
      "metadata": {
        "id": "atiiEt1a6gVc"
      },
      "source": [
        "# Question 2: Regularized non-negative matrix factorization"
      ]
    },
    {
      "cell_type": "markdown",
      "metadata": {
        "id": "inDwpQJJW_VA"
      },
      "source": [
        "## Problem definition\n",
        "\n",
        "Let the following optimization problem for regularized non-negative matrix factorization (regNMF): \n",
        "\n",
        "$\\min\\limits_{A, B}\\lVert X - AB \\rVert_F^{2} + λ \\lVert A \\rVert_F^{2}$, s.t. $A \\geq 0, B \\geq 0$.\n",
        "\n",
        "The problem obviously does not have a solution in closed form and therefore must be solved iteratevaly.\n",
        "\n"
      ]
    },
    {
      "cell_type": "markdown",
      "metadata": {
        "id": "3pCAGkaDYLGt"
      },
      "source": [
        "## I. "
      ]
    },
    {
      "cell_type": "markdown",
      "metadata": {
        "id": "hyrBRl44Yr4N"
      },
      "source": [
        "Let \n",
        "$$\n",
        "\\begin{align}\n",
        "l(A, B) &= \\lVert X - AB \\rVert_F^2 + λ \\lVert A \\rVert_F^2\\\\\n",
        "&= Tr[(X-AB)^T(X-AB)] + λ Tr(A^TA) \\\\\n",
        "&= Tr(X^TX - X^TAB - B^TA^TX + B^TA^TAB) + λ Tr(A^TA) \\\\\n",
        "&= Tr(X^TX) - Tr(X^TAB) - Tr(B^TA^TX) + Tr(B^TA^TAB) + λ Tr(A^TA)\n",
        "\\end{align}\n",
        "$$ \\\n",
        "\n",
        "In order to optimize the aformentioned problem, firstly we are going to initialize the unknown variables $A$ and $B$ with random non-negative values. After that, we are going to apply gradient descent steps (until convergence) as follows:\n",
        "\n",
        "$A_{[t+1]} \\leftarrow A_{[t]} - \\eta_A \\cdot \\nabla_A l(A_{[t]},B)$ \\\n",
        "$B_{[t+1]} \\leftarrow B_{[t]} - \\eta_B \\cdot \\nabla_B l(A,B_{[t]})$ \\\n",
        "$t \\leftarrow t + 1$\n",
        "\n",
        "Unfortunately, these multiplicative update rules do not guarantee that random variables $A$ and $B$ won't get negative values! But, we know that each number can be written as the difference of non-negative numbers. \\\n",
        "\n",
        "$\\nabla_A l(A,B) = \\nabla_A^{+} l(A,B) - \\nabla_A^{-} l(A,B) $ \\\n",
        "$\\nabla_B l(A,B) = \\nabla_B^{+} l(A,B) - \\nabla_B^{-} l(A,B) $\n",
        "\n",
        "The learning rates are defined in such a way that there is no subtraction in the update rules. Thus if we set them to: \\\n",
        "$\\eta_A = \\frac{A} {\\nabla_A^{+} l(A,B)}$ \\\n",
        "$\\eta_B = \\frac{B} {\\nabla_B^{+} l(A,B)}$\n",
        "\n",
        "Then, the multiplicative update rules can be written in the form of:\n",
        "\n",
        "$A = A - \\eta_A * \\nabla_A l(A,B) = A - \\frac{A} {\\nabla_A^{+} l(A,B)} * \\nabla_A l(A,B) = A * \\frac{\\nabla_A^{-} l(A,B)} {\\nabla_A^{+} l(A,B)}$ \\\n",
        "$B = B - \\eta_B * \\nabla_B l(A,B) = B - \\frac{B} {\\nabla_B^{+} l(A,B)} * \\nabla_B l(A,B) = B * \\frac{\\nabla_B^{-} l(A,B)} {\\nabla_B^{+} l(A,B)}$ \n",
        "\n",
        "Thus, to solve the given problem, we need the derivative of $l(A,B)$ w.r.t $A$ and $B$.\\\n",
        "\n",
        "The derivative of each term with respect to $A$:\\\n",
        "$\\nabla_A Tr(X^TX) = 0$ \\\n",
        "$\\nabla_A Tr(X^TAB) = \\nabla_A Tr(BX^TA) = (BX^T)^T = XB^T \n",
        "\\;\\;\\;\\;\\;\\;\\;\\;\\;\\; \\scriptsize \\left [ \\nabla_X Tr(AX) = A^T \\right ] $ \\\n",
        "$\\nabla_A Tr(B^TA^TX) = \\nabla_A Tr(XB^TA^T) = XB^T \n",
        "\\;\\;\\;\\;\\;\\;\\;\\;\\;\\;\\;\\;\\;\\;\\;\\;\\;\\;\\;\\;\\;\\; \\scriptsize \\left [ \\nabla_X Tr(X^TA) = A \\right ] $ \\\n",
        "$\\nabla_A Tr(B^TA^TAB) = ABB^T + ABB^T = 2ABB^T \\scriptsize \\left [ \\nabla_X Tr(B^TX^TCXB) = C^TXBB^T + CXBB^T, C := I\\right ]$ \\\n",
        "$\\nabla_A Tr(A^TA) = 2A$\n",
        "\n",
        "Thus, $\\nabla_A l(A,B) = 2 \\cdot (ABB^T + λA - XB^T)$\n",
        "\n",
        "The derivative of each term with respect to $B$:\\\n",
        "$\\nabla_B Tr(X^TX) = 0$ \\\n",
        "$\\nabla_B Tr(X^TAB) = (X^TA)^T = A^TX \\;\\;\\;\\;\\;\\;\\;\\;\\;\\;\\;\\;\\;\\;\\;\\;\\;\\;\\;\\;\\;\\;\\;\\;\\;\\;\\;\\;\\;\\;\\;\\;\\;  \\scriptsize \\left [ \\nabla_X Tr(AX) = A^T \\right ] $ \\\n",
        "$\\nabla_B Tr(B^TA^TX) = A^TX \\;\\;\\;\\;\\;\\;\\;\\;\\;\\;\\;\\;\\;\\;\\;\\;\\;\\;\\;\\;\\;\\;\\;\\;\\;\\;\\;\\;\\;\\;\\;\\;\\;\\;\\;\\;\\;\\;\\;\\;\\;\\;\\;\\;\\;\\;\\;  \\scriptsize \\left [ \\nabla_X Tr(X^TA) = A \\right ] $ \\\n",
        "$\\nabla_B Tr(B^TA^TAB) = A^TAB + A^TAB = 2A^TAB \\scriptsize \\left [ \\nabla_X Tr(B^TX^TCXB) = C^TXBB^T + CXBB^T, C := I\\right ]$ \\\n",
        "$\\nabla_B Tr(A^TA) = 0$\n",
        "\n",
        "Thus, $\\nabla_B l(A,B) = 2 \\cdot (A^TAB - A^TX)$\n",
        "\n",
        "The constant 2 can be adjusted in the learning rate and thus can be ignored for now. Finally, using the above derivatives the multiplicative update rules are: \\\n",
        "\n",
        "$A = A * \\frac{XB^T} {ABB^T + λA}$ \\\n",
        "\\\n",
        "$B = B * \\frac{A^TX} {A^TAB}$ \\"
      ]
    },
    {
      "cell_type": "markdown",
      "metadata": {
        "id": "hlSxyczte4lF"
      },
      "source": [
        "## II.\n",
        "\n",
        "Let's implement an iterative algorithm now to solve the above optimization problem using the multiplicative update rules we just found."
      ]
    },
    {
      "cell_type": "code",
      "metadata": {
        "colab": {
          "base_uri": "https://localhost:8080/"
        },
        "id": "z9WLjgi3tbuP",
        "outputId": "bd915d51-48cf-484b-f27a-1d793b6c3f49"
      },
      "source": [
        "# Input array X construction\n",
        "d = 500\n",
        "N = 500\n",
        "X = np.abs(np.random.random((d,N)))\n",
        "print(X)\n",
        "print(X.shape)"
      ],
      "execution_count": null,
      "outputs": [
        {
          "output_type": "stream",
          "text": [
            "[[0.07179519 0.22290953 0.83066265 ... 0.80839928 0.53882576 0.42069335]\n",
            " [0.6209908  0.26911675 0.76259141 ... 0.58097322 0.48197768 0.16693275]\n",
            " [0.30851247 0.11053569 0.5158498  ... 0.38300604 0.19687374 0.2845089 ]\n",
            " ...\n",
            " [0.13953947 0.61276572 0.80667782 ... 0.62851592 0.46281176 0.3732925 ]\n",
            " [0.72404753 0.99181289 0.30750117 ... 0.748484   0.47442707 0.12006568]\n",
            " [0.15096118 0.35222669 0.10232251 ... 0.62387464 0.19051506 0.82436874]]\n",
            "(500, 500)\n"
          ],
          "name": "stdout"
        }
      ]
    },
    {
      "cell_type": "code",
      "metadata": {
        "id": "C31Zanevt7JY"
      },
      "source": [
        "# Algorithm parameters\n",
        "epsilons = [0.1, 0.01, 0.001]\n",
        "ks = [5, 10, 50]\n",
        "l = 0.5"
      ],
      "execution_count": null,
      "outputs": []
    },
    {
      "cell_type": "code",
      "metadata": {
        "id": "kwh6G3u1uRzV"
      },
      "source": [
        "# DataFrame to export results from each experiment \n",
        "results = pd.DataFrame(columns=['Iterations', 'ε', 'k', 'Reconstruction error'])"
      ],
      "execution_count": null,
      "outputs": []
    },
    {
      "cell_type": "code",
      "metadata": {
        "id": "JJdM3mfRvZrm"
      },
      "source": [
        "# Implementation of the iterative algorithm \n",
        "import numpy.linalg as LA\n",
        "\n",
        "def Update_A(X, A, B, k, Lambda):\n",
        "  numerator = np.matmul(X, B.T)\n",
        "  denominator = A.dot(B.dot(B.T)) + (Lambda*A)\n",
        "  tempA = np.array(A)\n",
        "  tempA *= numerator\n",
        "  tempA /= denominator\n",
        "  return tempA\n",
        "\n",
        "def Update_B(X, A, B, k, Lambda):\n",
        "  numerator = np.matmul(A.T, X)\n",
        "  denominator = A.T.dot(A.dot(B))\n",
        "  tempB = np.array(B)\n",
        "  tempB *= numerator\n",
        "  tempB /= denominator\n",
        "  return tempB\n",
        "\n",
        "def Reconstruction_Error(X, A, B):\n",
        "  numerator = LA.norm(X-A.dot(B), ord='fro')**2\n",
        "  denominator = LA.norm(X, ord='fro')**2\n",
        "  recontruction_error = numerator/denominator \n",
        "  return recontruction_error\n",
        "\n",
        "def RegNMF(X, k, Lambda, epsilon, max_iter=500):\n",
        "  error_list = []\n",
        "  max_iters = 500\n",
        "  d, N = X.shape\n",
        "  \n",
        "  # Initialazation of A and B matrix with positive random numbers \n",
        "  A = np.abs(np.random.random((d,k)))\n",
        "  B = np.abs(np.random.random((k,N)))\n",
        "  \n",
        "  iteration = 0  \n",
        "  \n",
        "  while True:\n",
        "    # prevA and prevB to hold into variables the matrices in previous iteration\n",
        "    prevB = np.array(B)\n",
        "    prevA = np.array(A)\n",
        "    \n",
        "    # Update steps for A and B\n",
        "    B = Update_B(X, prevA, prevB, k, Lambda)\n",
        "    A = Update_A(X, prevA, B, k, Lambda)\n",
        "    \n",
        "    iteration += 1\n",
        "    error_list.append(Reconstruction_Error(X, prevA, prevB) - Reconstruction_Error(X, A, B))\n",
        "    \n",
        "    # Stop algorithm when reaching to max_iters or reconstruction is less or equal than epsilon\n",
        "    if iteration==max_iters or (Reconstruction_Error(X, prevA, prevB) - Reconstruction_Error(X, A, B)) <= epsilon:\n",
        "      break\n",
        "          \n",
        "  return (A, B, iteration, error_list)"
      ],
      "execution_count": null,
      "outputs": []
    },
    {
      "cell_type": "code",
      "metadata": {
        "colab": {
          "base_uri": "https://localhost:8080/"
        },
        "id": "3py4LqJGywyt",
        "outputId": "18a145c2-3909-451e-811c-937b28153294"
      },
      "source": [
        "# Run the different experiments \n",
        "for e in epsilons:\n",
        "  for k in ks:\n",
        "    A, B, iterations, error_list = RegNMF(X, k, l, e)\n",
        "    reconstruction_error = Reconstruction_Error(X, A, B)\n",
        "    print(\"Ran RegNMF for ε={}\\t k={}\\t λ={}\\t Reconstrution Error: {}\".format(e, k, l, reconstruction_error))\n",
        "    results.loc[len(results)] = [int(iterations), e, k, reconstruction_error]"
      ],
      "execution_count": null,
      "outputs": [
        {
          "output_type": "stream",
          "text": [
            "Ran RegNMF for ε=0.1\t k=5\t λ=0.5\t Reconstrution Error: 0.2610017599782243\n",
            "Ran RegNMF for ε=0.1\t k=10\t λ=0.5\t Reconstrution Error: 0.2551417268272646\n",
            "Ran RegNMF for ε=0.1\t k=50\t λ=0.5\t Reconstrution Error: 0.25161670302474853\n",
            "Ran RegNMF for ε=0.01\t k=5\t λ=0.5\t Reconstrution Error: 0.2602846377103043\n",
            "Ran RegNMF for ε=0.01\t k=10\t λ=0.5\t Reconstrution Error: 0.25547424286034603\n",
            "Ran RegNMF for ε=0.01\t k=50\t λ=0.5\t Reconstrution Error: 0.2516877142310419\n",
            "Ran RegNMF for ε=0.001\t k=5\t λ=0.5\t Reconstrution Error: 0.2536750959282361\n",
            "Ran RegNMF for ε=0.001\t k=10\t λ=0.5\t Reconstrution Error: 0.25320190828454003\n",
            "Ran RegNMF for ε=0.001\t k=50\t λ=0.5\t Reconstrution Error: 0.24969076517851702\n"
          ],
          "name": "stdout"
        }
      ]
    },
    {
      "cell_type": "code",
      "metadata": {
        "colab": {
          "base_uri": "https://localhost:8080/",
          "height": 332
        },
        "id": "gCk_WZoU02Qu",
        "outputId": "d87c5710-e301-422e-99bd-b7be508f53c0"
      },
      "source": [
        "results"
      ],
      "execution_count": null,
      "outputs": [
        {
          "output_type": "execute_result",
          "data": {
            "text/html": [
              "<div>\n",
              "<style scoped>\n",
              "    .dataframe tbody tr th:only-of-type {\n",
              "        vertical-align: middle;\n",
              "    }\n",
              "\n",
              "    .dataframe tbody tr th {\n",
              "        vertical-align: top;\n",
              "    }\n",
              "\n",
              "    .dataframe thead th {\n",
              "        text-align: right;\n",
              "    }\n",
              "</style>\n",
              "<table border=\"1\" class=\"dataframe\">\n",
              "  <thead>\n",
              "    <tr style=\"text-align: right;\">\n",
              "      <th></th>\n",
              "      <th>Iterations</th>\n",
              "      <th>ε</th>\n",
              "      <th>k</th>\n",
              "      <th>Reconstruction error</th>\n",
              "    </tr>\n",
              "  </thead>\n",
              "  <tbody>\n",
              "    <tr>\n",
              "      <th>0</th>\n",
              "      <td>2.0</td>\n",
              "      <td>0.100</td>\n",
              "      <td>5.0</td>\n",
              "      <td>0.261002</td>\n",
              "    </tr>\n",
              "    <tr>\n",
              "      <th>1</th>\n",
              "      <td>2.0</td>\n",
              "      <td>0.100</td>\n",
              "      <td>10.0</td>\n",
              "      <td>0.255142</td>\n",
              "    </tr>\n",
              "    <tr>\n",
              "      <th>2</th>\n",
              "      <td>2.0</td>\n",
              "      <td>0.100</td>\n",
              "      <td>50.0</td>\n",
              "      <td>0.251617</td>\n",
              "    </tr>\n",
              "    <tr>\n",
              "      <th>3</th>\n",
              "      <td>2.0</td>\n",
              "      <td>0.010</td>\n",
              "      <td>5.0</td>\n",
              "      <td>0.260285</td>\n",
              "    </tr>\n",
              "    <tr>\n",
              "      <th>4</th>\n",
              "      <td>2.0</td>\n",
              "      <td>0.010</td>\n",
              "      <td>10.0</td>\n",
              "      <td>0.255474</td>\n",
              "    </tr>\n",
              "    <tr>\n",
              "      <th>5</th>\n",
              "      <td>2.0</td>\n",
              "      <td>0.010</td>\n",
              "      <td>50.0</td>\n",
              "      <td>0.251688</td>\n",
              "    </tr>\n",
              "    <tr>\n",
              "      <th>6</th>\n",
              "      <td>7.0</td>\n",
              "      <td>0.001</td>\n",
              "      <td>5.0</td>\n",
              "      <td>0.253675</td>\n",
              "    </tr>\n",
              "    <tr>\n",
              "      <th>7</th>\n",
              "      <td>4.0</td>\n",
              "      <td>0.001</td>\n",
              "      <td>10.0</td>\n",
              "      <td>0.253202</td>\n",
              "    </tr>\n",
              "    <tr>\n",
              "      <th>8</th>\n",
              "      <td>4.0</td>\n",
              "      <td>0.001</td>\n",
              "      <td>50.0</td>\n",
              "      <td>0.249691</td>\n",
              "    </tr>\n",
              "  </tbody>\n",
              "</table>\n",
              "</div>"
            ],
            "text/plain": [
              "   Iterations      ε     k  Reconstruction error\n",
              "0         2.0  0.100   5.0              0.261002\n",
              "1         2.0  0.100  10.0              0.255142\n",
              "2         2.0  0.100  50.0              0.251617\n",
              "3         2.0  0.010   5.0              0.260285\n",
              "4         2.0  0.010  10.0              0.255474\n",
              "5         2.0  0.010  50.0              0.251688\n",
              "6         7.0  0.001   5.0              0.253675\n",
              "7         4.0  0.001  10.0              0.253202\n",
              "8         4.0  0.001  50.0              0.249691"
            ]
          },
          "metadata": {
            "tags": []
          },
          "execution_count": 32
        }
      ]
    },
    {
      "cell_type": "markdown",
      "metadata": {
        "id": "-dTIHeUqdfRG"
      },
      "source": [
        "**Lowest Reconstruction Error based on parameters $ε$ and $k$**"
      ]
    },
    {
      "cell_type": "code",
      "metadata": {
        "colab": {
          "base_uri": "https://localhost:8080/",
          "height": 332
        },
        "id": "bC-VVikR2Os1",
        "outputId": "70724bf5-52b7-4da8-ac3a-761c29f20177"
      },
      "source": [
        "results.sort_values(by=['Reconstruction error', 'ε', 'k'])"
      ],
      "execution_count": null,
      "outputs": [
        {
          "output_type": "execute_result",
          "data": {
            "text/html": [
              "<div>\n",
              "<style scoped>\n",
              "    .dataframe tbody tr th:only-of-type {\n",
              "        vertical-align: middle;\n",
              "    }\n",
              "\n",
              "    .dataframe tbody tr th {\n",
              "        vertical-align: top;\n",
              "    }\n",
              "\n",
              "    .dataframe thead th {\n",
              "        text-align: right;\n",
              "    }\n",
              "</style>\n",
              "<table border=\"1\" class=\"dataframe\">\n",
              "  <thead>\n",
              "    <tr style=\"text-align: right;\">\n",
              "      <th></th>\n",
              "      <th>Iterations</th>\n",
              "      <th>ε</th>\n",
              "      <th>k</th>\n",
              "      <th>Reconstruction error</th>\n",
              "    </tr>\n",
              "  </thead>\n",
              "  <tbody>\n",
              "    <tr>\n",
              "      <th>8</th>\n",
              "      <td>4.0</td>\n",
              "      <td>0.001</td>\n",
              "      <td>50.0</td>\n",
              "      <td>0.249691</td>\n",
              "    </tr>\n",
              "    <tr>\n",
              "      <th>2</th>\n",
              "      <td>2.0</td>\n",
              "      <td>0.100</td>\n",
              "      <td>50.0</td>\n",
              "      <td>0.251617</td>\n",
              "    </tr>\n",
              "    <tr>\n",
              "      <th>5</th>\n",
              "      <td>2.0</td>\n",
              "      <td>0.010</td>\n",
              "      <td>50.0</td>\n",
              "      <td>0.251688</td>\n",
              "    </tr>\n",
              "    <tr>\n",
              "      <th>7</th>\n",
              "      <td>4.0</td>\n",
              "      <td>0.001</td>\n",
              "      <td>10.0</td>\n",
              "      <td>0.253202</td>\n",
              "    </tr>\n",
              "    <tr>\n",
              "      <th>6</th>\n",
              "      <td>7.0</td>\n",
              "      <td>0.001</td>\n",
              "      <td>5.0</td>\n",
              "      <td>0.253675</td>\n",
              "    </tr>\n",
              "    <tr>\n",
              "      <th>1</th>\n",
              "      <td>2.0</td>\n",
              "      <td>0.100</td>\n",
              "      <td>10.0</td>\n",
              "      <td>0.255142</td>\n",
              "    </tr>\n",
              "    <tr>\n",
              "      <th>4</th>\n",
              "      <td>2.0</td>\n",
              "      <td>0.010</td>\n",
              "      <td>10.0</td>\n",
              "      <td>0.255474</td>\n",
              "    </tr>\n",
              "    <tr>\n",
              "      <th>3</th>\n",
              "      <td>2.0</td>\n",
              "      <td>0.010</td>\n",
              "      <td>5.0</td>\n",
              "      <td>0.260285</td>\n",
              "    </tr>\n",
              "    <tr>\n",
              "      <th>0</th>\n",
              "      <td>2.0</td>\n",
              "      <td>0.100</td>\n",
              "      <td>5.0</td>\n",
              "      <td>0.261002</td>\n",
              "    </tr>\n",
              "  </tbody>\n",
              "</table>\n",
              "</div>"
            ],
            "text/plain": [
              "   Iterations      ε     k  Reconstruction error\n",
              "8         4.0  0.001  50.0              0.249691\n",
              "2         2.0  0.100  50.0              0.251617\n",
              "5         2.0  0.010  50.0              0.251688\n",
              "7         4.0  0.001  10.0              0.253202\n",
              "6         7.0  0.001   5.0              0.253675\n",
              "1         2.0  0.100  10.0              0.255142\n",
              "4         2.0  0.010  10.0              0.255474\n",
              "3         2.0  0.010   5.0              0.260285\n",
              "0         2.0  0.100   5.0              0.261002"
            ]
          },
          "metadata": {
            "tags": []
          },
          "execution_count": 33
        }
      ]
    },
    {
      "cell_type": "markdown",
      "metadata": {
        "id": "0Z8FQP44enOc"
      },
      "source": [
        "**Mean Reconstruction Error based on parameters $k$**"
      ]
    },
    {
      "cell_type": "code",
      "metadata": {
        "colab": {
          "base_uri": "https://localhost:8080/",
          "height": 174
        },
        "id": "KlbL4-Pke1a_",
        "outputId": "2ceb28aa-fa8c-4e0d-fa5c-eedfd18596d5"
      },
      "source": [
        "results[['k', 'Reconstruction error']].groupby(by=['k']).mean()"
      ],
      "execution_count": null,
      "outputs": [
        {
          "output_type": "execute_result",
          "data": {
            "text/html": [
              "<div>\n",
              "<style scoped>\n",
              "    .dataframe tbody tr th:only-of-type {\n",
              "        vertical-align: middle;\n",
              "    }\n",
              "\n",
              "    .dataframe tbody tr th {\n",
              "        vertical-align: top;\n",
              "    }\n",
              "\n",
              "    .dataframe thead th {\n",
              "        text-align: right;\n",
              "    }\n",
              "</style>\n",
              "<table border=\"1\" class=\"dataframe\">\n",
              "  <thead>\n",
              "    <tr style=\"text-align: right;\">\n",
              "      <th></th>\n",
              "      <th>Reconstruction error</th>\n",
              "    </tr>\n",
              "    <tr>\n",
              "      <th>k</th>\n",
              "      <th></th>\n",
              "    </tr>\n",
              "  </thead>\n",
              "  <tbody>\n",
              "    <tr>\n",
              "      <th>5.0</th>\n",
              "      <td>0.258320</td>\n",
              "    </tr>\n",
              "    <tr>\n",
              "      <th>10.0</th>\n",
              "      <td>0.254606</td>\n",
              "    </tr>\n",
              "    <tr>\n",
              "      <th>50.0</th>\n",
              "      <td>0.250998</td>\n",
              "    </tr>\n",
              "  </tbody>\n",
              "</table>\n",
              "</div>"
            ],
            "text/plain": [
              "      Reconstruction error\n",
              "k                         \n",
              "5.0               0.258320\n",
              "10.0              0.254606\n",
              "50.0              0.250998"
            ]
          },
          "metadata": {
            "tags": []
          },
          "execution_count": 34
        }
      ]
    },
    {
      "cell_type": "markdown",
      "metadata": {
        "id": "46yLEdCNfCMc"
      },
      "source": [
        "**Mean Reconstruction Error based on parameters $ε$**"
      ]
    },
    {
      "cell_type": "code",
      "metadata": {
        "colab": {
          "base_uri": "https://localhost:8080/",
          "height": 174
        },
        "id": "lgwQpm5ifBnO",
        "outputId": "f8e0b3bc-449a-4617-a76e-267ea2a0af34"
      },
      "source": [
        "results[['ε', 'Reconstruction error']].groupby(by=['ε']).mean()"
      ],
      "execution_count": null,
      "outputs": [
        {
          "output_type": "execute_result",
          "data": {
            "text/html": [
              "<div>\n",
              "<style scoped>\n",
              "    .dataframe tbody tr th:only-of-type {\n",
              "        vertical-align: middle;\n",
              "    }\n",
              "\n",
              "    .dataframe tbody tr th {\n",
              "        vertical-align: top;\n",
              "    }\n",
              "\n",
              "    .dataframe thead th {\n",
              "        text-align: right;\n",
              "    }\n",
              "</style>\n",
              "<table border=\"1\" class=\"dataframe\">\n",
              "  <thead>\n",
              "    <tr style=\"text-align: right;\">\n",
              "      <th></th>\n",
              "      <th>Reconstruction error</th>\n",
              "    </tr>\n",
              "    <tr>\n",
              "      <th>ε</th>\n",
              "      <th></th>\n",
              "    </tr>\n",
              "  </thead>\n",
              "  <tbody>\n",
              "    <tr>\n",
              "      <th>0.001</th>\n",
              "      <td>0.252189</td>\n",
              "    </tr>\n",
              "    <tr>\n",
              "      <th>0.010</th>\n",
              "      <td>0.255816</td>\n",
              "    </tr>\n",
              "    <tr>\n",
              "      <th>0.100</th>\n",
              "      <td>0.255920</td>\n",
              "    </tr>\n",
              "  </tbody>\n",
              "</table>\n",
              "</div>"
            ],
            "text/plain": [
              "       Reconstruction error\n",
              "ε                          \n",
              "0.001              0.252189\n",
              "0.010              0.255816\n",
              "0.100              0.255920"
            ]
          },
          "metadata": {
            "tags": []
          },
          "execution_count": 35
        }
      ]
    },
    {
      "cell_type": "markdown",
      "metadata": {
        "id": "jdes8AKIgAMA"
      },
      "source": [
        "**Plots**"
      ]
    },
    {
      "cell_type": "code",
      "metadata": {
        "colab": {
          "base_uri": "https://localhost:8080/",
          "height": 636
        },
        "id": "Rqcy04TugZe9",
        "outputId": "6d8eb0bc-4a5b-49b1-fd11-b07ed7c18109"
      },
      "source": [
        "fig, axs = plt.subplots(1, 2, figsize=(20, 10))\n",
        "sns.kdeplot(data=results['Reconstruction error'], data2=results['k'], cbar=True, cmap=\"Blues_r\", shade=True, bw='silverman', gridsize=100, ax=axs[0])\n",
        "axs[0].set_xlabel('Reconstruction error', fontsize=20)\n",
        "axs[0].set_ylabel('k', fontsize=20)\n",
        "axs[0].set_title('Reconstruction error vs k',fontsize=20,fontweight='bold')\n",
        "axs[1].plot(results['Reconstruction error'], results['ε'], '*')\n",
        "axs[1].set_xlabel('Reconstruction error', fontsize=20)\n",
        "axs[1].set_ylabel('ε', fontsize=20)\n",
        "axs[1].set_title('Reconstruction error vs ε', fontsize=20, fontweight='bold')\n",
        "plt.show()"
      ],
      "execution_count": null,
      "outputs": [
        {
          "output_type": "display_data",
          "data": {
            "image/png": "[encoded data removed]",
            "text/plain": [
              "<Figure size 1440x720 with 3 Axes>"
            ]
          },
          "metadata": {
            "tags": [],
            "needs_background": "light"
          }
        }
      ]
    },
    {
      "cell_type": "markdown",
      "metadata": {
        "id": "b2klo0jZiqRR"
      },
      "source": [
        "**Study the behavior of the regNMF algorithm with respect to the number of iterations required to converge if $k = 5, 10, 50$ and $ε = 0.1, 0.01, 0.001$.**"
      ]
    },
    {
      "cell_type": "markdown",
      "metadata": {
        "id": "H9CjhRNKiXma"
      },
      "source": [
        "For all combinations of the above values ​​of the parameters $ε$ and $k$, we conclude that the number of iterations performed is relatively small and therefore the reconstruction error is relative high. That means that the matrices product $AB$ does not approximate optimally the initial matrix $X$. \n"
      ]
    },
    {
      "cell_type": "markdown",
      "metadata": {
        "id": "V_WGKg_Mjlb_"
      },
      "source": [
        "In order to extract more meaningful experimental results, we are going to execute a variety of experiments with lower values for $ε$ and higher values for $k$. Then, by observing the updated Dataframes and plots, we are going to report our final findings. "
      ]
    },
    {
      "cell_type": "code",
      "metadata": {
        "id": "ZGCRDHKckIk7"
      },
      "source": [
        "epsilons = [0.1, 0.01, 0.001, 0.0001]\n",
        "ks = [5, 10, 50, 100, 250, 500]\n",
        "results = pd.DataFrame(columns=['Iterations', 'ε', 'k', 'Reconstruction error'])"
      ],
      "execution_count": null,
      "outputs": []
    },
    {
      "cell_type": "code",
      "metadata": {
        "colab": {
          "base_uri": "https://localhost:8080/"
        },
        "id": "oK6M-gaBkfBL",
        "outputId": "e0f961c3-15d9-4a6a-870e-3ad9cc7058bd"
      },
      "source": [
        "for e in epsilons:\n",
        "  for k in ks:\n",
        "    A, B, iterations, error_list = RegNMF(X, k, l, e)\n",
        "    reconstruction_error = Reconstruction_Error(X, A, B)\n",
        "    print(\"Ran RegNMF for ε={}\\t k={}\\t λ={}\\t Reconstrution Error: {}\".format(e, k, l, reconstruction_error))\n",
        "    results.loc[len(results)] = [int(iterations), e, k, reconstruction_error]"
      ],
      "execution_count": null,
      "outputs": [
        {
          "output_type": "stream",
          "text": [
            "Ran RegNMF for ε=0.1\t k=5\t λ=0.5\t Reconstrution Error: 0.2604204215966077\n",
            "Ran RegNMF for ε=0.1\t k=10\t λ=0.5\t Reconstrution Error: 0.2554918091761866\n",
            "Ran RegNMF for ε=0.1\t k=50\t λ=0.5\t Reconstrution Error: 0.25178938614432345\n",
            "Ran RegNMF for ε=0.1\t k=100\t λ=0.5\t Reconstrution Error: 0.2549180326412395\n",
            "Ran RegNMF for ε=0.1\t k=250\t λ=0.5\t Reconstrution Error: 0.26526508150666944\n",
            "Ran RegNMF for ε=0.1\t k=500\t λ=0.5\t Reconstrution Error: 0.27344391395640716\n",
            "Ran RegNMF for ε=0.01\t k=5\t λ=0.5\t Reconstrution Error: 0.2614241717629209\n",
            "Ran RegNMF for ε=0.01\t k=10\t λ=0.5\t Reconstrution Error: 0.2553175052589006\n",
            "Ran RegNMF for ε=0.01\t k=50\t λ=0.5\t Reconstrution Error: 0.25184341300453134\n",
            "Ran RegNMF for ε=0.01\t k=100\t λ=0.5\t Reconstrution Error: 0.2549904055803196\n",
            "Ran RegNMF for ε=0.01\t k=250\t λ=0.5\t Reconstrution Error: 0.25716783647483643\n",
            "Ran RegNMF for ε=0.01\t k=500\t λ=0.5\t Reconstrution Error: 0.25487102214502877\n",
            "Ran RegNMF for ε=0.001\t k=5\t λ=0.5\t Reconstrution Error: 0.25334769162726667\n",
            "Ran RegNMF for ε=0.001\t k=10\t λ=0.5\t Reconstrution Error: 0.253135644219078\n",
            "Ran RegNMF for ε=0.001\t k=50\t λ=0.5\t Reconstrution Error: 0.24977980644361408\n",
            "Ran RegNMF for ε=0.001\t k=100\t λ=0.5\t Reconstrution Error: 0.2485315144070692\n",
            "Ran RegNMF for ε=0.001\t k=250\t λ=0.5\t Reconstrution Error: 0.2477166487003727\n",
            "Ran RegNMF for ε=0.001\t k=500\t λ=0.5\t Reconstrution Error: 0.2482346907254381\n",
            "Ran RegNMF for ε=0.0001\t k=5\t λ=0.5\t Reconstrution Error: 0.24713802634376256\n",
            "Ran RegNMF for ε=0.0001\t k=10\t λ=0.5\t Reconstrution Error: 0.24059715929099312\n",
            "Ran RegNMF for ε=0.0001\t k=50\t λ=0.5\t Reconstrution Error: 0.1988106677941838\n",
            "Ran RegNMF for ε=0.0001\t k=100\t λ=0.5\t Reconstrution Error: 0.16731972237245293\n",
            "Ran RegNMF for ε=0.0001\t k=250\t λ=0.5\t Reconstrution Error: 0.11218424234148679\n",
            "Ran RegNMF for ε=0.0001\t k=500\t λ=0.5\t Reconstrution Error: 0.043567488428855196\n"
          ],
          "name": "stdout"
        }
      ]
    },
    {
      "cell_type": "code",
      "metadata": {
        "colab": {
          "base_uri": "https://localhost:8080/",
          "height": 801
        },
        "id": "3h7e0BQEkuts",
        "outputId": "e85b7fa2-99fd-421e-b08e-dcaf1e6119e9"
      },
      "source": [
        "results"
      ],
      "execution_count": null,
      "outputs": [
        {
          "output_type": "execute_result",
          "data": {
            "text/html": [
              "<div>\n",
              "<style scoped>\n",
              "    .dataframe tbody tr th:only-of-type {\n",
              "        vertical-align: middle;\n",
              "    }\n",
              "\n",
              "    .dataframe tbody tr th {\n",
              "        vertical-align: top;\n",
              "    }\n",
              "\n",
              "    .dataframe thead th {\n",
              "        text-align: right;\n",
              "    }\n",
              "</style>\n",
              "<table border=\"1\" class=\"dataframe\">\n",
              "  <thead>\n",
              "    <tr style=\"text-align: right;\">\n",
              "      <th></th>\n",
              "      <th>Iterations</th>\n",
              "      <th>ε</th>\n",
              "      <th>k</th>\n",
              "      <th>Reconstruction error</th>\n",
              "    </tr>\n",
              "  </thead>\n",
              "  <tbody>\n",
              "    <tr>\n",
              "      <th>0</th>\n",
              "      <td>2.0</td>\n",
              "      <td>0.1000</td>\n",
              "      <td>5.0</td>\n",
              "      <td>0.260420</td>\n",
              "    </tr>\n",
              "    <tr>\n",
              "      <th>1</th>\n",
              "      <td>2.0</td>\n",
              "      <td>0.1000</td>\n",
              "      <td>10.0</td>\n",
              "      <td>0.255492</td>\n",
              "    </tr>\n",
              "    <tr>\n",
              "      <th>2</th>\n",
              "      <td>2.0</td>\n",
              "      <td>0.1000</td>\n",
              "      <td>50.0</td>\n",
              "      <td>0.251789</td>\n",
              "    </tr>\n",
              "    <tr>\n",
              "      <th>3</th>\n",
              "      <td>2.0</td>\n",
              "      <td>0.1000</td>\n",
              "      <td>100.0</td>\n",
              "      <td>0.254918</td>\n",
              "    </tr>\n",
              "    <tr>\n",
              "      <th>4</th>\n",
              "      <td>2.0</td>\n",
              "      <td>0.1000</td>\n",
              "      <td>250.0</td>\n",
              "      <td>0.265265</td>\n",
              "    </tr>\n",
              "    <tr>\n",
              "      <th>5</th>\n",
              "      <td>2.0</td>\n",
              "      <td>0.1000</td>\n",
              "      <td>500.0</td>\n",
              "      <td>0.273444</td>\n",
              "    </tr>\n",
              "    <tr>\n",
              "      <th>6</th>\n",
              "      <td>2.0</td>\n",
              "      <td>0.0100</td>\n",
              "      <td>5.0</td>\n",
              "      <td>0.261424</td>\n",
              "    </tr>\n",
              "    <tr>\n",
              "      <th>7</th>\n",
              "      <td>2.0</td>\n",
              "      <td>0.0100</td>\n",
              "      <td>10.0</td>\n",
              "      <td>0.255318</td>\n",
              "    </tr>\n",
              "    <tr>\n",
              "      <th>8</th>\n",
              "      <td>2.0</td>\n",
              "      <td>0.0100</td>\n",
              "      <td>50.0</td>\n",
              "      <td>0.251843</td>\n",
              "    </tr>\n",
              "    <tr>\n",
              "      <th>9</th>\n",
              "      <td>2.0</td>\n",
              "      <td>0.0100</td>\n",
              "      <td>100.0</td>\n",
              "      <td>0.254990</td>\n",
              "    </tr>\n",
              "    <tr>\n",
              "      <th>10</th>\n",
              "      <td>3.0</td>\n",
              "      <td>0.0100</td>\n",
              "      <td>250.0</td>\n",
              "      <td>0.257168</td>\n",
              "    </tr>\n",
              "    <tr>\n",
              "      <th>11</th>\n",
              "      <td>4.0</td>\n",
              "      <td>0.0100</td>\n",
              "      <td>500.0</td>\n",
              "      <td>0.254871</td>\n",
              "    </tr>\n",
              "    <tr>\n",
              "      <th>12</th>\n",
              "      <td>7.0</td>\n",
              "      <td>0.0010</td>\n",
              "      <td>5.0</td>\n",
              "      <td>0.253348</td>\n",
              "    </tr>\n",
              "    <tr>\n",
              "      <th>13</th>\n",
              "      <td>4.0</td>\n",
              "      <td>0.0010</td>\n",
              "      <td>10.0</td>\n",
              "      <td>0.253136</td>\n",
              "    </tr>\n",
              "    <tr>\n",
              "      <th>14</th>\n",
              "      <td>4.0</td>\n",
              "      <td>0.0010</td>\n",
              "      <td>50.0</td>\n",
              "      <td>0.249780</td>\n",
              "    </tr>\n",
              "    <tr>\n",
              "      <th>15</th>\n",
              "      <td>6.0</td>\n",
              "      <td>0.0010</td>\n",
              "      <td>100.0</td>\n",
              "      <td>0.248532</td>\n",
              "    </tr>\n",
              "    <tr>\n",
              "      <th>16</th>\n",
              "      <td>8.0</td>\n",
              "      <td>0.0010</td>\n",
              "      <td>250.0</td>\n",
              "      <td>0.247717</td>\n",
              "    </tr>\n",
              "    <tr>\n",
              "      <th>17</th>\n",
              "      <td>8.0</td>\n",
              "      <td>0.0010</td>\n",
              "      <td>500.0</td>\n",
              "      <td>0.248235</td>\n",
              "    </tr>\n",
              "    <tr>\n",
              "      <th>18</th>\n",
              "      <td>31.0</td>\n",
              "      <td>0.0001</td>\n",
              "      <td>5.0</td>\n",
              "      <td>0.247138</td>\n",
              "    </tr>\n",
              "    <tr>\n",
              "      <th>19</th>\n",
              "      <td>59.0</td>\n",
              "      <td>0.0001</td>\n",
              "      <td>10.0</td>\n",
              "      <td>0.240597</td>\n",
              "    </tr>\n",
              "    <tr>\n",
              "      <th>20</th>\n",
              "      <td>132.0</td>\n",
              "      <td>0.0001</td>\n",
              "      <td>50.0</td>\n",
              "      <td>0.198811</td>\n",
              "    </tr>\n",
              "    <tr>\n",
              "      <th>21</th>\n",
              "      <td>154.0</td>\n",
              "      <td>0.0001</td>\n",
              "      <td>100.0</td>\n",
              "      <td>0.167320</td>\n",
              "    </tr>\n",
              "    <tr>\n",
              "      <th>22</th>\n",
              "      <td>183.0</td>\n",
              "      <td>0.0001</td>\n",
              "      <td>250.0</td>\n",
              "      <td>0.112184</td>\n",
              "    </tr>\n",
              "    <tr>\n",
              "      <th>23</th>\n",
              "      <td>260.0</td>\n",
              "      <td>0.0001</td>\n",
              "      <td>500.0</td>\n",
              "      <td>0.043567</td>\n",
              "    </tr>\n",
              "  </tbody>\n",
              "</table>\n",
              "</div>"
            ],
            "text/plain": [
              "    Iterations       ε      k  Reconstruction error\n",
              "0          2.0  0.1000    5.0              0.260420\n",
              "1          2.0  0.1000   10.0              0.255492\n",
              "2          2.0  0.1000   50.0              0.251789\n",
              "3          2.0  0.1000  100.0              0.254918\n",
              "4          2.0  0.1000  250.0              0.265265\n",
              "5          2.0  0.1000  500.0              0.273444\n",
              "6          2.0  0.0100    5.0              0.261424\n",
              "7          2.0  0.0100   10.0              0.255318\n",
              "8          2.0  0.0100   50.0              0.251843\n",
              "9          2.0  0.0100  100.0              0.254990\n",
              "10         3.0  0.0100  250.0              0.257168\n",
              "11         4.0  0.0100  500.0              0.254871\n",
              "12         7.0  0.0010    5.0              0.253348\n",
              "13         4.0  0.0010   10.0              0.253136\n",
              "14         4.0  0.0010   50.0              0.249780\n",
              "15         6.0  0.0010  100.0              0.248532\n",
              "16         8.0  0.0010  250.0              0.247717\n",
              "17         8.0  0.0010  500.0              0.248235\n",
              "18        31.0  0.0001    5.0              0.247138\n",
              "19        59.0  0.0001   10.0              0.240597\n",
              "20       132.0  0.0001   50.0              0.198811\n",
              "21       154.0  0.0001  100.0              0.167320\n",
              "22       183.0  0.0001  250.0              0.112184\n",
              "23       260.0  0.0001  500.0              0.043567"
            ]
          },
          "metadata": {
            "tags": []
          },
          "execution_count": 39
        }
      ]
    },
    {
      "cell_type": "code",
      "metadata": {
        "colab": {
          "base_uri": "https://localhost:8080/",
          "height": 801
        },
        "id": "-98j81z8k8k0",
        "outputId": "d06f172d-2e9c-4d08-e56e-3bad3965b88d"
      },
      "source": [
        "results.sort_values(by=['Reconstruction error', 'ε', 'k'])"
      ],
      "execution_count": null,
      "outputs": [
        {
          "output_type": "execute_result",
          "data": {
            "text/html": [
              "<div>\n",
              "<style scoped>\n",
              "    .dataframe tbody tr th:only-of-type {\n",
              "        vertical-align: middle;\n",
              "    }\n",
              "\n",
              "    .dataframe tbody tr th {\n",
              "        vertical-align: top;\n",
              "    }\n",
              "\n",
              "    .dataframe thead th {\n",
              "        text-align: right;\n",
              "    }\n",
              "</style>\n",
              "<table border=\"1\" class=\"dataframe\">\n",
              "  <thead>\n",
              "    <tr style=\"text-align: right;\">\n",
              "      <th></th>\n",
              "      <th>Iterations</th>\n",
              "      <th>ε</th>\n",
              "      <th>k</th>\n",
              "      <th>Reconstruction error</th>\n",
              "    </tr>\n",
              "  </thead>\n",
              "  <tbody>\n",
              "    <tr>\n",
              "      <th>23</th>\n",
              "      <td>260.0</td>\n",
              "      <td>0.0001</td>\n",
              "      <td>500.0</td>\n",
              "      <td>0.043567</td>\n",
              "    </tr>\n",
              "    <tr>\n",
              "      <th>22</th>\n",
              "      <td>183.0</td>\n",
              "      <td>0.0001</td>\n",
              "      <td>250.0</td>\n",
              "      <td>0.112184</td>\n",
              "    </tr>\n",
              "    <tr>\n",
              "      <th>21</th>\n",
              "      <td>154.0</td>\n",
              "      <td>0.0001</td>\n",
              "      <td>100.0</td>\n",
              "      <td>0.167320</td>\n",
              "    </tr>\n",
              "    <tr>\n",
              "      <th>20</th>\n",
              "      <td>132.0</td>\n",
              "      <td>0.0001</td>\n",
              "      <td>50.0</td>\n",
              "      <td>0.198811</td>\n",
              "    </tr>\n",
              "    <tr>\n",
              "      <th>19</th>\n",
              "      <td>59.0</td>\n",
              "      <td>0.0001</td>\n",
              "      <td>10.0</td>\n",
              "      <td>0.240597</td>\n",
              "    </tr>\n",
              "    <tr>\n",
              "      <th>18</th>\n",
              "      <td>31.0</td>\n",
              "      <td>0.0001</td>\n",
              "      <td>5.0</td>\n",
              "      <td>0.247138</td>\n",
              "    </tr>\n",
              "    <tr>\n",
              "      <th>16</th>\n",
              "      <td>8.0</td>\n",
              "      <td>0.0010</td>\n",
              "      <td>250.0</td>\n",
              "      <td>0.247717</td>\n",
              "    </tr>\n",
              "    <tr>\n",
              "      <th>17</th>\n",
              "      <td>8.0</td>\n",
              "      <td>0.0010</td>\n",
              "      <td>500.0</td>\n",
              "      <td>0.248235</td>\n",
              "    </tr>\n",
              "    <tr>\n",
              "      <th>15</th>\n",
              "      <td>6.0</td>\n",
              "      <td>0.0010</td>\n",
              "      <td>100.0</td>\n",
              "      <td>0.248532</td>\n",
              "    </tr>\n",
              "    <tr>\n",
              "      <th>14</th>\n",
              "      <td>4.0</td>\n",
              "      <td>0.0010</td>\n",
              "      <td>50.0</td>\n",
              "      <td>0.249780</td>\n",
              "    </tr>\n",
              "    <tr>\n",
              "      <th>2</th>\n",
              "      <td>2.0</td>\n",
              "      <td>0.1000</td>\n",
              "      <td>50.0</td>\n",
              "      <td>0.251789</td>\n",
              "    </tr>\n",
              "    <tr>\n",
              "      <th>8</th>\n",
              "      <td>2.0</td>\n",
              "      <td>0.0100</td>\n",
              "      <td>50.0</td>\n",
              "      <td>0.251843</td>\n",
              "    </tr>\n",
              "    <tr>\n",
              "      <th>13</th>\n",
              "      <td>4.0</td>\n",
              "      <td>0.0010</td>\n",
              "      <td>10.0</td>\n",
              "      <td>0.253136</td>\n",
              "    </tr>\n",
              "    <tr>\n",
              "      <th>12</th>\n",
              "      <td>7.0</td>\n",
              "      <td>0.0010</td>\n",
              "      <td>5.0</td>\n",
              "      <td>0.253348</td>\n",
              "    </tr>\n",
              "    <tr>\n",
              "      <th>11</th>\n",
              "      <td>4.0</td>\n",
              "      <td>0.0100</td>\n",
              "      <td>500.0</td>\n",
              "      <td>0.254871</td>\n",
              "    </tr>\n",
              "    <tr>\n",
              "      <th>3</th>\n",
              "      <td>2.0</td>\n",
              "      <td>0.1000</td>\n",
              "      <td>100.0</td>\n",
              "      <td>0.254918</td>\n",
              "    </tr>\n",
              "    <tr>\n",
              "      <th>9</th>\n",
              "      <td>2.0</td>\n",
              "      <td>0.0100</td>\n",
              "      <td>100.0</td>\n",
              "      <td>0.254990</td>\n",
              "    </tr>\n",
              "    <tr>\n",
              "      <th>7</th>\n",
              "      <td>2.0</td>\n",
              "      <td>0.0100</td>\n",
              "      <td>10.0</td>\n",
              "      <td>0.255318</td>\n",
              "    </tr>\n",
              "    <tr>\n",
              "      <th>1</th>\n",
              "      <td>2.0</td>\n",
              "      <td>0.1000</td>\n",
              "      <td>10.0</td>\n",
              "      <td>0.255492</td>\n",
              "    </tr>\n",
              "    <tr>\n",
              "      <th>10</th>\n",
              "      <td>3.0</td>\n",
              "      <td>0.0100</td>\n",
              "      <td>250.0</td>\n",
              "      <td>0.257168</td>\n",
              "    </tr>\n",
              "    <tr>\n",
              "      <th>0</th>\n",
              "      <td>2.0</td>\n",
              "      <td>0.1000</td>\n",
              "      <td>5.0</td>\n",
              "      <td>0.260420</td>\n",
              "    </tr>\n",
              "    <tr>\n",
              "      <th>6</th>\n",
              "      <td>2.0</td>\n",
              "      <td>0.0100</td>\n",
              "      <td>5.0</td>\n",
              "      <td>0.261424</td>\n",
              "    </tr>\n",
              "    <tr>\n",
              "      <th>4</th>\n",
              "      <td>2.0</td>\n",
              "      <td>0.1000</td>\n",
              "      <td>250.0</td>\n",
              "      <td>0.265265</td>\n",
              "    </tr>\n",
              "    <tr>\n",
              "      <th>5</th>\n",
              "      <td>2.0</td>\n",
              "      <td>0.1000</td>\n",
              "      <td>500.0</td>\n",
              "      <td>0.273444</td>\n",
              "    </tr>\n",
              "  </tbody>\n",
              "</table>\n",
              "</div>"
            ],
            "text/plain": [
              "    Iterations       ε      k  Reconstruction error\n",
              "23       260.0  0.0001  500.0              0.043567\n",
              "22       183.0  0.0001  250.0              0.112184\n",
              "21       154.0  0.0001  100.0              0.167320\n",
              "20       132.0  0.0001   50.0              0.198811\n",
              "19        59.0  0.0001   10.0              0.240597\n",
              "18        31.0  0.0001    5.0              0.247138\n",
              "16         8.0  0.0010  250.0              0.247717\n",
              "17         8.0  0.0010  500.0              0.248235\n",
              "15         6.0  0.0010  100.0              0.248532\n",
              "14         4.0  0.0010   50.0              0.249780\n",
              "2          2.0  0.1000   50.0              0.251789\n",
              "8          2.0  0.0100   50.0              0.251843\n",
              "13         4.0  0.0010   10.0              0.253136\n",
              "12         7.0  0.0010    5.0              0.253348\n",
              "11         4.0  0.0100  500.0              0.254871\n",
              "3          2.0  0.1000  100.0              0.254918\n",
              "9          2.0  0.0100  100.0              0.254990\n",
              "7          2.0  0.0100   10.0              0.255318\n",
              "1          2.0  0.1000   10.0              0.255492\n",
              "10         3.0  0.0100  250.0              0.257168\n",
              "0          2.0  0.1000    5.0              0.260420\n",
              "6          2.0  0.0100    5.0              0.261424\n",
              "4          2.0  0.1000  250.0              0.265265\n",
              "5          2.0  0.1000  500.0              0.273444"
            ]
          },
          "metadata": {
            "tags": []
          },
          "execution_count": 40
        }
      ]
    },
    {
      "cell_type": "code",
      "metadata": {
        "colab": {
          "base_uri": "https://localhost:8080/",
          "height": 269
        },
        "id": "mgnSzJSylBCU",
        "outputId": "442fad94-8bfb-49cb-fe0d-cc896b4a80fe"
      },
      "source": [
        "results[['k', 'Reconstruction error']].groupby(by=['k']).mean()"
      ],
      "execution_count": null,
      "outputs": [
        {
          "output_type": "execute_result",
          "data": {
            "text/html": [
              "<div>\n",
              "<style scoped>\n",
              "    .dataframe tbody tr th:only-of-type {\n",
              "        vertical-align: middle;\n",
              "    }\n",
              "\n",
              "    .dataframe tbody tr th {\n",
              "        vertical-align: top;\n",
              "    }\n",
              "\n",
              "    .dataframe thead th {\n",
              "        text-align: right;\n",
              "    }\n",
              "</style>\n",
              "<table border=\"1\" class=\"dataframe\">\n",
              "  <thead>\n",
              "    <tr style=\"text-align: right;\">\n",
              "      <th></th>\n",
              "      <th>Reconstruction error</th>\n",
              "    </tr>\n",
              "    <tr>\n",
              "      <th>k</th>\n",
              "      <th></th>\n",
              "    </tr>\n",
              "  </thead>\n",
              "  <tbody>\n",
              "    <tr>\n",
              "      <th>5.0</th>\n",
              "      <td>0.255583</td>\n",
              "    </tr>\n",
              "    <tr>\n",
              "      <th>10.0</th>\n",
              "      <td>0.251136</td>\n",
              "    </tr>\n",
              "    <tr>\n",
              "      <th>50.0</th>\n",
              "      <td>0.238056</td>\n",
              "    </tr>\n",
              "    <tr>\n",
              "      <th>100.0</th>\n",
              "      <td>0.231440</td>\n",
              "    </tr>\n",
              "    <tr>\n",
              "      <th>250.0</th>\n",
              "      <td>0.220583</td>\n",
              "    </tr>\n",
              "    <tr>\n",
              "      <th>500.0</th>\n",
              "      <td>0.205029</td>\n",
              "    </tr>\n",
              "  </tbody>\n",
              "</table>\n",
              "</div>"
            ],
            "text/plain": [
              "       Reconstruction error\n",
              "k                          \n",
              "5.0                0.255583\n",
              "10.0               0.251136\n",
              "50.0               0.238056\n",
              "100.0              0.231440\n",
              "250.0              0.220583\n",
              "500.0              0.205029"
            ]
          },
          "metadata": {
            "tags": []
          },
          "execution_count": 41
        }
      ]
    },
    {
      "cell_type": "code",
      "metadata": {
        "colab": {
          "base_uri": "https://localhost:8080/",
          "height": 206
        },
        "id": "2FlvYXZllB-4",
        "outputId": "05ad687b-4ad8-43d3-8f92-6e1065d50806"
      },
      "source": [
        "results[['ε', 'Reconstruction error']].groupby(by=['ε']).mean()"
      ],
      "execution_count": null,
      "outputs": [
        {
          "output_type": "execute_result",
          "data": {
            "text/html": [
              "<div>\n",
              "<style scoped>\n",
              "    .dataframe tbody tr th:only-of-type {\n",
              "        vertical-align: middle;\n",
              "    }\n",
              "\n",
              "    .dataframe tbody tr th {\n",
              "        vertical-align: top;\n",
              "    }\n",
              "\n",
              "    .dataframe thead th {\n",
              "        text-align: right;\n",
              "    }\n",
              "</style>\n",
              "<table border=\"1\" class=\"dataframe\">\n",
              "  <thead>\n",
              "    <tr style=\"text-align: right;\">\n",
              "      <th></th>\n",
              "      <th>Reconstruction error</th>\n",
              "    </tr>\n",
              "    <tr>\n",
              "      <th>ε</th>\n",
              "      <th></th>\n",
              "    </tr>\n",
              "  </thead>\n",
              "  <tbody>\n",
              "    <tr>\n",
              "      <th>0.0001</th>\n",
              "      <td>0.168270</td>\n",
              "    </tr>\n",
              "    <tr>\n",
              "      <th>0.0010</th>\n",
              "      <td>0.250124</td>\n",
              "    </tr>\n",
              "    <tr>\n",
              "      <th>0.0100</th>\n",
              "      <td>0.255936</td>\n",
              "    </tr>\n",
              "    <tr>\n",
              "      <th>0.1000</th>\n",
              "      <td>0.260221</td>\n",
              "    </tr>\n",
              "  </tbody>\n",
              "</table>\n",
              "</div>"
            ],
            "text/plain": [
              "        Reconstruction error\n",
              "ε                           \n",
              "0.0001              0.168270\n",
              "0.0010              0.250124\n",
              "0.0100              0.255936\n",
              "0.1000              0.260221"
            ]
          },
          "metadata": {
            "tags": []
          },
          "execution_count": 42
        }
      ]
    },
    {
      "cell_type": "code",
      "metadata": {
        "colab": {
          "base_uri": "https://localhost:8080/",
          "height": 636
        },
        "id": "L-vMYUPblHL0",
        "outputId": "a74e0697-0dba-47d9-9bc2-f085424dd5ff"
      },
      "source": [
        "fig, axs = plt.subplots(1, 2, figsize=(20, 10))\n",
        "sns.kdeplot(data=results['Reconstruction error'], data2=results['k'], cbar=True, cmap=\"Blues_r\", shade=True, bw='silverman', gridsize=100, ax=axs[0])\n",
        "axs[0].set_xlabel('Reconstruction error', fontsize=20)\n",
        "axs[0].set_ylabel('k', fontsize=20)\n",
        "axs[0].set_title('Reconstruction error vs k',fontsize=20,fontweight='bold')\n",
        "axs[1].plot(results['Reconstruction error'], results['ε'], '*')\n",
        "axs[1].set_xlabel('Reconstruction error', fontsize=20)\n",
        "axs[1].set_ylabel('ε', fontsize=20)\n",
        "axs[1].set_title('Reconstruction error vs ε', fontsize=20, fontweight='bold')\n",
        "plt.show()"
      ],
      "execution_count": null,
      "outputs": [
        {
          "output_type": "display_data",
          "data": {
            "image/png": "[encoded data removed]",
            "text/plain": [
              "<Figure size 1440x720 with 3 Axes>"
            ]
          },
          "metadata": {
            "tags": [],
            "needs_background": "light"
          }
        }
      ]
    },
    {
      "cell_type": "markdown",
      "metadata": {
        "id": "UUav_syPlMN_"
      },
      "source": [
        "**Experimental study according to measurements and diagrams**\n"
      ]
    },
    {
      "cell_type": "markdown",
      "metadata": {
        "id": "8WkvEiZmlajr"
      },
      "source": [
        "\n",
        "\n",
        "1. As parameter $k$ increases, the reconstruction error between the initial matrix $X$ and the matrix product $AB$ tends to decrease.\n",
        "2. The total number of iterations increases as the termination threshold $ε$ decreases. Therefore, when $k$ is 500 (i.e. as much as the one dimension of the original matrix $X$), we observe that matrices $X$ and $AB$ are very close to each other (successful factorization). \n",
        "3. By observing the heatmap, we notice that the reconstruction error for most factorized matrices is close to 0.25. This happens even in changes of the parameters $k$ and $ε$.\n",
        "\n"
      ]
    },
    {
      "cell_type": "markdown",
      "metadata": {
        "id": "CSorDCnMohtr"
      },
      "source": [
        "**What are your conclusions about the behavior of the algorithm for different values ​​of $k$ and epsilon ($ε$)?**"
      ]
    },
    {
      "cell_type": "markdown",
      "metadata": {
        "id": "ygPpNnZUowqS"
      },
      "source": [
        "\n",
        "\n",
        "1. As the $ε$ decreases more iterations occur, resulting in a greater approximation of the $AB$ product to the initial matrix $X$.\n",
        "2. Increasing parameter $k$ make sense to improve convergence, as the higher the rank (and the selected components), the greater the amount of information retained. This is confirmed by measurements as we see that in several cases convergence improves when $k$ increases.\n",
        "\n",
        "\n"
      ]
    }
  ]
}